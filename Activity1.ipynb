{
 "cells": [
  {
   "cell_type": "code",
   "execution_count": 2,
   "metadata": {
    "collapsed": true
   },
   "outputs": [],
   "source": [
    "library(\"rio\")"
   ]
  },
  {
   "cell_type": "code",
   "execution_count": 3,
   "metadata": {
    "collapsed": false
   },
   "outputs": [
    {
     "name": "stderr",
     "output_type": "stream",
     "text": [
      "Updating HTML index of packages in '.Library'\n",
      "Making 'packages.html' ... done\n"
     ]
    }
   ],
   "source": [
    "install.packages(\"rio\")"
   ]
  },
  {
   "cell_type": "code",
   "execution_count": 6,
   "metadata": {
    "collapsed": false
   },
   "outputs": [
    {
     "name": "stderr",
     "output_type": "stream",
     "text": [
      "Warning message in rbind(course = structure(c(\"10577\", \"ANTH\", \"211\", \"F01\", \"Introduction to Anthropology\", :\n",
      "“number of columns of result is not a multiple of vector length (arg 4)”"
     ]
    }
   ],
   "source": [
    "x=import(\"/home/naina/reed.xml\")"
   ]
  },
  {
   "cell_type": "code",
   "execution_count": 10,
   "metadata": {
    "collapsed": false
   },
   "outputs": [
    {
     "name": "stderr",
     "output_type": "stream",
     "text": [
      "Warning message in rbind(course = structure(c(\"10577\", \"ANTH\", \"211\", \"F01\", \"Introduction to Anthropology\", :\n",
      "“number of columns of result is not a multiple of vector length (arg 4)”"
     ]
    }
   ],
   "source": [
    "convert(\"/home/naina/reed.xml\",\"/home/naina/reed.csv\")"
   ]
  },
  {
   "cell_type": "code",
   "execution_count": 9,
   "metadata": {
    "collapsed": false
   },
   "outputs": [
    {
     "data": {
      "text/html": [
       "<table>\n",
       "<thead><tr><th scope=col>reg_num</th><th scope=col>subj</th><th scope=col>crse</th><th scope=col>sect</th><th scope=col>title</th><th scope=col>units</th><th scope=col>instructor</th><th scope=col>days</th><th scope=col>time.start_time</th><th scope=col>time.end_time</th><th scope=col>place.building</th><th scope=col>place.room</th></tr></thead>\n",
       "<tbody>\n",
       "\t<tr><td>10577                                </td><td>ANTH                                 </td><td>211                                  </td><td>F01                                  </td><td>Introduction to Anthropology         </td><td>1.0                                  </td><td>Brightman                            </td><td>M-W                                  </td><td>03:10PM                              </td><td>04:30                                </td><td>ELIOT                                </td><td>414                                  </td></tr>\n",
       "\t<tr><td>20573                                </td><td>ANTH                                 </td><td>344                                  </td><td>S01                                  </td><td>Sex and Gender                       </td><td>1.0                                  </td><td>Makley                               </td><td>T-Th                                 </td><td>10:30AM                              </td><td>11:50                                </td><td>VOLLUM                               </td><td>120                                  </td></tr>\n",
       "\t<tr><td>10624                                </td><td>BIOL                                 </td><td>431                                  </td><td>F01                                  </td><td>Field Biology of Amphibians          </td><td>0.5                                  </td><td>Kaplan                               </td><td>T                                    </td><td>06:10PM                              </td><td>08:00                                </td><td>PHYSIC                               </td><td>240A                                 </td></tr>\n",
       "\t<tr><td>10626                                </td><td>BIOL                                 </td><td>431                                  </td><td>F03                                  </td><td>Bacterial Pathogenesis               </td><td>0.5                                  </td><td>Mellies RESCHEDULED TO OTHER SEMESTER</td><td>10626                                </td><td>BIOL                                 </td><td>431                                  </td><td>F03                                  </td><td>Bacterial Pathogenesis               </td></tr>\n",
       "\t<tr><td>20626                                </td><td>BIOL                                 </td><td>431                                  </td><td>S04                                  </td><td>Seminar in Biology                   </td><td>0.5                                  </td><td>Yezerinac                            </td><td>Th                                   </td><td>06:10PM                              </td><td>08:00                                </td><td>BIOL                                 </td><td>200A                                 </td></tr>\n",
       "\t<tr><td>10543                                </td><td>CHEM                                 </td><td>101                                  </td><td>F                                    </td><td>MolecularStructure and Properties    </td><td>1.0                                  </td><td>Geselbracht                          </td><td>M-W-F                                </td><td>11:00AM                              </td><td>11:50                                </td><td>VOLLUM                               </td><td>VLH                                  </td></tr>\n",
       "</tbody>\n",
       "</table>\n"
      ],
      "text/latex": [
       "\\begin{tabular}{r|llllllllllll}\n",
       " reg\\_num & subj & crse & sect & title & units & instructor & days & time.start\\_time & time.end\\_time & place.building & place.room\\\\\n",
       "\\hline\n",
       "\t 10577                                 & ANTH                                  & 211                                   & F01                                   & Introduction to Anthropology          & 1.0                                   & Brightman                             & M-W                                   & 03:10PM                               & 04:30                                 & ELIOT                                 & 414                                  \\\\\n",
       "\t 20573                                 & ANTH                                  & 344                                   & S01                                   & Sex and Gender                        & 1.0                                   & Makley                                & T-Th                                  & 10:30AM                               & 11:50                                 & VOLLUM                                & 120                                  \\\\\n",
       "\t 10624                                 & BIOL                                  & 431                                   & F01                                   & Field Biology of Amphibians           & 0.5                                   & Kaplan                                & T                                     & 06:10PM                               & 08:00                                 & PHYSIC                                & 240A                                 \\\\\n",
       "\t 10626                                 & BIOL                                  & 431                                   & F03                                   & Bacterial Pathogenesis                & 0.5                                   & Mellies RESCHEDULED TO OTHER SEMESTER & 10626                                 & BIOL                                  & 431                                   & F03                                   & Bacterial Pathogenesis               \\\\\n",
       "\t 20626                                 & BIOL                                  & 431                                   & S04                                   & Seminar in Biology                    & 0.5                                   & Yezerinac                             & Th                                    & 06:10PM                               & 08:00                                 & BIOL                                  & 200A                                 \\\\\n",
       "\t 10543                                 & CHEM                                  & 101                                   & F                                     & MolecularStructure and Properties     & 1.0                                   & Geselbracht                           & M-W-F                                 & 11:00AM                               & 11:50                                 & VOLLUM                                & VLH                                  \\\\\n",
       "\\end{tabular}\n"
      ],
      "text/markdown": [
       "\n",
       "reg_num | subj | crse | sect | title | units | instructor | days | time.start_time | time.end_time | place.building | place.room | \n",
       "|---|---|---|---|---|---|\n",
       "| 10577                                 | ANTH                                  | 211                                   | F01                                   | Introduction to Anthropology          | 1.0                                   | Brightman                             | M-W                                   | 03:10PM                               | 04:30                                 | ELIOT                                 | 414                                   | \n",
       "| 20573                                 | ANTH                                  | 344                                   | S01                                   | Sex and Gender                        | 1.0                                   | Makley                                | T-Th                                  | 10:30AM                               | 11:50                                 | VOLLUM                                | 120                                   | \n",
       "| 10624                                 | BIOL                                  | 431                                   | F01                                   | Field Biology of Amphibians           | 0.5                                   | Kaplan                                | T                                     | 06:10PM                               | 08:00                                 | PHYSIC                                | 240A                                  | \n",
       "| 10626                                 | BIOL                                  | 431                                   | F03                                   | Bacterial Pathogenesis                | 0.5                                   | Mellies RESCHEDULED TO OTHER SEMESTER | 10626                                 | BIOL                                  | 431                                   | F03                                   | Bacterial Pathogenesis                | \n",
       "| 20626                                 | BIOL                                  | 431                                   | S04                                   | Seminar in Biology                    | 0.5                                   | Yezerinac                             | Th                                    | 06:10PM                               | 08:00                                 | BIOL                                  | 200A                                  | \n",
       "| 10543                                 | CHEM                                  | 101                                   | F                                     | MolecularStructure and Properties     | 1.0                                   | Geselbracht                           | M-W-F                                 | 11:00AM                               | 11:50                                 | VOLLUM                                | VLH                                   | \n",
       "\n",
       "\n"
      ],
      "text/plain": [
       "  reg_num subj crse sect title                             units\n",
       "1 10577   ANTH 211  F01  Introduction to Anthropology      1.0  \n",
       "2 20573   ANTH 344  S01  Sex and Gender                    1.0  \n",
       "3 10624   BIOL 431  F01  Field Biology of Amphibians       0.5  \n",
       "4 10626   BIOL 431  F03  Bacterial Pathogenesis            0.5  \n",
       "5 20626   BIOL 431  S04  Seminar in Biology                0.5  \n",
       "6 10543   CHEM 101  F    MolecularStructure and Properties 1.0  \n",
       "  instructor                            days  time.start_time time.end_time\n",
       "1 Brightman                             M-W   03:10PM         04:30        \n",
       "2 Makley                                T-Th  10:30AM         11:50        \n",
       "3 Kaplan                                T     06:10PM         08:00        \n",
       "4 Mellies RESCHEDULED TO OTHER SEMESTER 10626 BIOL            431          \n",
       "5 Yezerinac                             Th    06:10PM         08:00        \n",
       "6 Geselbracht                           M-W-F 11:00AM         11:50        \n",
       "  place.building place.room            \n",
       "1 ELIOT          414                   \n",
       "2 VOLLUM         120                   \n",
       "3 PHYSIC         240A                  \n",
       "4 F03            Bacterial Pathogenesis\n",
       "5 BIOL           200A                  \n",
       "6 VOLLUM         VLH                   "
      ]
     },
     "metadata": {},
     "output_type": "display_data"
    }
   ],
   "source": [
    "head(import(\"reed.csv\"))"
   ]
  }
 ],
 "metadata": {
  "kernelspec": {
   "display_name": "R",
   "language": "R",
   "name": "ir"
  },
  "language_info": {
   "codemirror_mode": "r",
   "file_extension": ".r",
   "mimetype": "text/x-r-source",
   "name": "R",
   "pygments_lexer": "r",
   "version": "3.3.2"
  }
 },
 "nbformat": 4,
 "nbformat_minor": 2
}
